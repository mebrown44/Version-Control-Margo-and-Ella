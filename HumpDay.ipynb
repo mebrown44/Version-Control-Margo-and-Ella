{
 "cells": [
  {
   "cell_type": "code",
   "execution_count": 13,
   "id": "be6fd89b-0e7a-483f-8ba6-31c30a3a5a51",
   "metadata": {},
   "outputs": [
    {
     "name": "stdout",
     "output_type": "stream",
     "text": [
      "HUMP DAY CALCULATOR\n"
     ]
    },
    {
     "name": "stdin",
     "output_type": "stream",
     "text": [
      "Please enter your name:  Ella\n",
      "Please enter what day of the week it is out of the following list (case sensitive): Mon, Tue, Wed, Thu, Fri, Sat, Sun :  Wed\n"
     ]
    },
    {
     "name": "stdout",
     "output_type": "stream",
     "text": [
      "Hello Ella, today is Hump Day!\n"
     ]
    }
   ],
   "source": [
    "print(\"HUMP DAY CALCULATOR\")\n",
    "name = input(\"Please enter your name: \")\n",
    "day = input(\"Please enter what day of the week it is out of the following list (case sensitive): Mon, Tue, Wed, Thu, Fri, Sat, Sun : \")\n",
    "if day == \"Wed\":\n",
    "  print(\"Hello \" + name + \", today is Hump Day!\")\n",
    "else:\n",
    "  print(\"Hello \" + name + \", today is not Hump Day.\")"
   ]
  },
  {
   "cell_type": "code",
   "execution_count": null,
   "id": "796db51e-4a52-4a6d-b1ee-e46dddf1622b",
   "metadata": {},
   "outputs": [],
   "source": []
  }
 ],
 "metadata": {
  "kernelspec": {
   "display_name": "Python 3 (ipykernel)",
   "language": "python",
   "name": "python3"
  },
  "language_info": {
   "codemirror_mode": {
    "name": "ipython",
    "version": 3
   },
   "file_extension": ".py",
   "mimetype": "text/x-python",
   "name": "python",
   "nbconvert_exporter": "python",
   "pygments_lexer": "ipython3",
   "version": "3.12.4"
  }
 },
 "nbformat": 4,
 "nbformat_minor": 5
}
