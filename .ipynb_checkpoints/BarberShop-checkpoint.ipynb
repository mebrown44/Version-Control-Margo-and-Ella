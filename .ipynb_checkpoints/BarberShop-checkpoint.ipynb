{
 "cells": [
  {
   "cell_type": "code",
   "execution_count": null,
   "id": "8c775df0-1aa5-40ca-ab92-c7ecd27ede42",
   "metadata": {},
   "outputs": [],
   "source": [
    "print(\"Welcome to the Barber Shop\")\n",
    "name = input(\"\\tPlease Enter your name for an Appointment: \")\n",
    "time = input(\"\\tWhat time would you like your Appointment: \")\n"
   ]
  }
 ],
 "metadata": {
  "kernelspec": {
   "display_name": "Python 3 (ipykernel)",
   "language": "python",
   "name": "python3"
  },
  "language_info": {
   "codemirror_mode": {
    "name": "ipython",
    "version": 3
   },
   "file_extension": ".py",
   "mimetype": "text/x-python",
   "name": "python",
   "nbconvert_exporter": "python",
   "pygments_lexer": "ipython3",
   "version": "3.12.4"
  }
 },
 "nbformat": 4,
 "nbformat_minor": 5
}
